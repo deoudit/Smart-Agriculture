{
 "cells": [
  {
   "cell_type": "code",
   "execution_count": 1,
   "metadata": {
    "collapsed": true,
    "pycharm": {
     "is_executing": false
    }
   },
   "outputs": [],
   "source": [
    "import pandas as pd"
   ]
  },
  {
   "cell_type": "code",
   "execution_count": 2,
   "outputs": [
    {
     "data": {
      "text/plain": "    pH    EC    OC      N      P       K      S    Zn    Fe    Cu    Mn  \\\n0  7.9  0.13  0.54  375.3  19.52  267.31   9.65  0.68  7.18  0.28  2.36   \n1  7.6  0.13  0.48  333.6  24.77  297.26   7.00  0.66  8.22  0.36  2.40   \n2  7.5  0.14  0.40  278.0  24.02  276.30  10.25  0.64  8.24  0.34  2.42   \n3  7.3  0.15  0.50  347.5  17.26  223.60   6.75  0.66  7.36  0.26  2.56   \n4  6.9  0.15  0.44  305.8  16.51  269.10   8.23  0.68  7.28  0.30  2.60   \n\n   Target  \n0       0  \n1       2  \n2       2  \n3       0  \n4       2  ",
      "text/html": "<div>\n<style scoped>\n    .dataframe tbody tr th:only-of-type {\n        vertical-align: middle;\n    }\n\n    .dataframe tbody tr th {\n        vertical-align: top;\n    }\n\n    .dataframe thead th {\n        text-align: right;\n    }\n</style>\n<table border=\"1\" class=\"dataframe\">\n  <thead>\n    <tr style=\"text-align: right;\">\n      <th></th>\n      <th>pH</th>\n      <th>EC</th>\n      <th>OC</th>\n      <th>N</th>\n      <th>P</th>\n      <th>K</th>\n      <th>S</th>\n      <th>Zn</th>\n      <th>Fe</th>\n      <th>Cu</th>\n      <th>Mn</th>\n      <th>Target</th>\n    </tr>\n  </thead>\n  <tbody>\n    <tr>\n      <th>0</th>\n      <td>7.9</td>\n      <td>0.13</td>\n      <td>0.54</td>\n      <td>375.3</td>\n      <td>19.52</td>\n      <td>267.31</td>\n      <td>9.65</td>\n      <td>0.68</td>\n      <td>7.18</td>\n      <td>0.28</td>\n      <td>2.36</td>\n      <td>0</td>\n    </tr>\n    <tr>\n      <th>1</th>\n      <td>7.6</td>\n      <td>0.13</td>\n      <td>0.48</td>\n      <td>333.6</td>\n      <td>24.77</td>\n      <td>297.26</td>\n      <td>7.00</td>\n      <td>0.66</td>\n      <td>8.22</td>\n      <td>0.36</td>\n      <td>2.40</td>\n      <td>2</td>\n    </tr>\n    <tr>\n      <th>2</th>\n      <td>7.5</td>\n      <td>0.14</td>\n      <td>0.40</td>\n      <td>278.0</td>\n      <td>24.02</td>\n      <td>276.30</td>\n      <td>10.25</td>\n      <td>0.64</td>\n      <td>8.24</td>\n      <td>0.34</td>\n      <td>2.42</td>\n      <td>2</td>\n    </tr>\n    <tr>\n      <th>3</th>\n      <td>7.3</td>\n      <td>0.15</td>\n      <td>0.50</td>\n      <td>347.5</td>\n      <td>17.26</td>\n      <td>223.60</td>\n      <td>6.75</td>\n      <td>0.66</td>\n      <td>7.36</td>\n      <td>0.26</td>\n      <td>2.56</td>\n      <td>0</td>\n    </tr>\n    <tr>\n      <th>4</th>\n      <td>6.9</td>\n      <td>0.15</td>\n      <td>0.44</td>\n      <td>305.8</td>\n      <td>16.51</td>\n      <td>269.10</td>\n      <td>8.23</td>\n      <td>0.68</td>\n      <td>7.28</td>\n      <td>0.30</td>\n      <td>2.60</td>\n      <td>2</td>\n    </tr>\n  </tbody>\n</table>\n</div>"
     },
     "metadata": {},
     "output_type": "execute_result",
     "execution_count": 2
    }
   ],
   "source": [
    "df = pd.read_csv('Clustered_Data.csv')\n",
    "df.drop(['Unnamed: 0'], axis=1, inplace=True)\n",
    "df.head()"
   ],
   "metadata": {
    "collapsed": false,
    "pycharm": {
     "name": "#%%\n",
     "is_executing": false
    }
   }
  },
  {
   "cell_type": "code",
   "execution_count": 31,
   "outputs": [],
   "source": [
    "df1 = df[df['Target'] == 0]\n",
    "df2 = df[df['Target'] == 1]\n",
    "df3 = df[df['Target'] == 2]"
   ],
   "metadata": {
    "collapsed": false,
    "pycharm": {
     "name": "#%%\n",
     "is_executing": false
    }
   }
  },
  {
   "cell_type": "code",
   "execution_count": 11,
   "outputs": [],
   "source": [
    "df3 = pd.read_csv('SubData2.csv')\n",
    "df1 = pd.read_csv('SubData1.csv')\n",
    "df1.drop(['Unnamed: 0'], axis=1, inplace=True)\n",
    "df3.drop(['Unnamed: 0'], axis=1, inplace=True)\n",
    "#df2.info()\n",
    "#df3.info()"
   ],
   "metadata": {
    "collapsed": false,
    "pycharm": {
     "name": "#%%\n",
     "is_executing": false
    }
   }
  },
  {
   "cell_type": "code",
   "execution_count": 38,
   "outputs": [],
   "source": [
    "X = df1.iloc[:,[0,1,2,3,4,5,6,7,8,9,10]].values"
   ],
   "metadata": {
    "collapsed": false,
    "pycharm": {
     "name": "#%%\n",
     "is_executing": false
    }
   }
  },
  {
   "cell_type": "code",
   "execution_count": 39,
   "outputs": [],
   "source": [
    "from sklearn.cluster import KMeans\n",
    "wcss = []\n",
    "for i in range(1,11):\n",
    "    kmeans = KMeans(n_clusters=i, init='k-means++', max_iter=300, n_init=10, random_state=0)\n",
    "    kmeans.fit(X)\n",
    "    wcss.append(kmeans.inertia_)"
   ],
   "metadata": {
    "collapsed": false,
    "pycharm": {
     "name": "#%%\n",
     "is_executing": false
    }
   }
  },
  {
   "cell_type": "code",
   "execution_count": 40,
   "outputs": [],
   "source": [
    "import matplotlib.pyplot as plt"
   ],
   "metadata": {
    "collapsed": false,
    "pycharm": {
     "name": "#%%\n",
     "is_executing": false
    }
   }
  },
  {
   "cell_type": "code",
   "execution_count": 41,
   "outputs": [
    {
     "data": {
      "text/plain": "<Figure size 432x288 with 1 Axes>",
      "image/png": "[encoded data removed]"
     },
     "metadata": {
      "needs_background": "light"
     },
     "output_type": "display_data"
    }
   ],
   "source": [
    "plt.plot(range(1, 11), wcss)\n",
    "plt.title('The Elbow Method')\n",
    "plt.xlabel('Number of clusters')\n",
    "plt.ylabel('WCSS')\n",
    "plt.show()"
   ],
   "metadata": {
    "collapsed": false,
    "pycharm": {
     "name": "#%%\n",
     "is_executing": false
    }
   }
  },
  {
   "cell_type": "code",
   "execution_count": 42,
   "outputs": [],
   "source": [
    "kmeans = KMeans(n_clusters=4, init='k-means++', max_iter=300, n_init=10, random_state=0)\n",
    "y_kmeans = kmeans.fit_predict(X)\n",
    "\n"
   ],
   "metadata": {
    "collapsed": false,
    "pycharm": {
     "name": "#%%\n",
     "is_executing": false
    }
   }
  },
  {
   "cell_type": "code",
   "execution_count": 43,
   "outputs": [],
   "source": [
    "df1['Sub_Target'] = pd.DataFrame(y_kmeans)"
   ],
   "metadata": {
    "collapsed": false,
    "pycharm": {
     "name": "#%%\n",
     "is_executing": false
    }
   }
  },
  {
   "cell_type": "code",
   "execution_count": 45,
   "outputs": [],
   "source": [],
   "metadata": {
    "collapsed": false,
    "pycharm": {
     "name": "#%%\n",
     "is_executing": false
    }
   }
  },
  {
   "cell_type": "code",
   "execution_count": 48,
   "outputs": [],
   "source": [
    "Y = df3.iloc[:,[0,1,2,3,4,5,6,7,8,9,10]].values\n",
    "\n"
   ],
   "metadata": {
    "collapsed": false,
    "pycharm": {
     "name": "#%%\n",
     "is_executing": false
    }
   }
  },
  {
   "cell_type": "code",
   "execution_count": 49,
   "outputs": [],
   "source": [
    "from sklearn.cluster import KMeans\n",
    "wcss1 = []\n",
    "for i in range(1,11):\n",
    "    kmeans1 = KMeans(n_clusters=i, init='k-means++', max_iter=300, n_init=10, random_state=0)\n",
    "    kmeans1.fit(Y)\n",
    "    wcss1.append(kmeans1.inertia_)\n"
   ],
   "metadata": {
    "collapsed": false,
    "pycharm": {
     "name": "#%%\n",
     "is_executing": false
    }
   }
  },
  {
   "cell_type": "code",
   "execution_count": 50,
   "outputs": [
    {
     "data": {
      "text/plain": "<Figure size 432x288 with 1 Axes>",
      "image/png": "[encoded data removed]"
     },
     "metadata": {
      "needs_background": "light"
     },
     "output_type": "display_data"
    }
   ],
   "source": [
    "plt.plot(range(1, 11), wcss1)\n",
    "plt.title('The Elbow Method')\n",
    "plt.xlabel('Number of clusters')\n",
    "plt.ylabel('WCSS')\n",
    "plt.show()\n",
    "\n"
   ],
   "metadata": {
    "collapsed": false,
    "pycharm": {
     "name": "#%%\n",
     "is_executing": false
    }
   }
  },
  {
   "cell_type": "code",
   "execution_count": 51,
   "outputs": [],
   "source": [
    "kmeans1 = KMeans(n_clusters=3, init='k-means++', max_iter=300, n_init=10, random_state=0)\n",
    "y_kmeans1 = kmeans1.fit_predict(Y)\n"
   ],
   "metadata": {
    "collapsed": false,
    "pycharm": {
     "name": "#%%\n",
     "is_executing": false
    }
   }
  },
  {
   "cell_type": "code",
   "execution_count": 52,
   "outputs": [],
   "source": [
    "df3['Sub_Target'] = pd.DataFrame(y_kmeans1)"
   ],
   "metadata": {
    "collapsed": false,
    "pycharm": {
     "name": "#%%\n",
     "is_executing": false
    }
   }
  },
  {
   "cell_type": "code",
   "execution_count": 59,
   "outputs": [
    {
     "name": "stdout",
     "text": [
      "           0           1\n0  60.838802  -88.884468\n1  18.757812 -119.151858\n2  17.469142 -105.222601\n3  94.004546  -73.267809\n4  69.049861  -96.678773\n"
     ],
     "output_type": "stream"
    }
   ],
   "source": [
    "from sklearn.decomposition import PCA \n",
    "  \n",
    "pca1 = PCA(2) \n",
    "pca1.fit(df1) \n",
    "  \n",
    "pca_data1 = pd.DataFrame(pca1.transform(df1)) \n",
    "  \n",
    "print(pca_data1.head())"
   ],
   "metadata": {
    "collapsed": false,
    "pycharm": {
     "name": "#%%\n",
     "is_executing": false
    }
   }
  },
  {
   "cell_type": "code",
   "execution_count": 55,
   "outputs": [
    {
     "name": "stdout",
     "text": [
      "            0          1\n0  150.978435  -5.122574\n1   98.446383  22.557793\n2  111.623314  -3.190516\n3 -119.734170 -44.732548\n4 -153.365963  23.065031\n"
     ],
     "output_type": "stream"
    }
   ],
   "source": [
    "from sklearn.decomposition import PCA \n",
    "  \n",
    "pca1 = PCA(2) \n",
    "pca1.fit(df3) \n",
    "  \n",
    "pca_data1 = pd.DataFrame(pca1.transform(df3)) \n",
    "  \n",
    "print(pca_data1.head())\n",
    "\n"
   ],
   "metadata": {
    "collapsed": false,
    "pycharm": {
     "name": "#%%\n",
     "is_executing": false
    }
   }
  },
  {
   "cell_type": "code",
   "execution_count": 60,
   "outputs": [],
   "source": [
    "pca_1 = pca_data1.iloc[:,[0,1]].values\n"
   ],
   "metadata": {
    "collapsed": false,
    "pycharm": {
     "name": "#%%\n",
     "is_executing": false
    }
   }
  },
  {
   "cell_type": "code",
   "execution_count": 58,
   "outputs": [
    {
     "data": {
      "text/plain": "<Figure size 432x288 with 1 Axes>",
      "image/png": "[encoded data removed]"
     },
     "metadata": {
      "needs_background": "light"
     },
     "output_type": "display_data"
    }
   ],
   "source": [
    "plt.scatter(pca_1[y_kmeans1==0, 0], pca_1[y_kmeans1==0, 1], s=200, c='red', label='Crop1')\n",
    "plt.scatter(pca_1[y_kmeans1==1, 0], pca_1[y_kmeans1==1, 1], s=200, c='blue', label='Crop2')\n",
    "plt.scatter(pca_1[y_kmeans1==2, 0], pca_1[y_kmeans1==2, 1], s=200, c='green', label='Crop3')\n",
    "plt.scatter(kmeans.cluster_centers_[:, 0], kmeans.cluster_centers_[:, 1], s=300, c='yellow', label='Centroid')\n",
    "plt.title('Clustering of Crops')\n",
    "plt.xlabel('Feature1')\n",
    "plt.ylabel('Feature2')\n",
    "plt.legend()\n",
    "plt.show()"
   ],
   "metadata": {
    "collapsed": false,
    "pycharm": {
     "name": "#%%\n",
     "is_executing": false
    }
   }
  },
  {
   "cell_type": "code",
   "execution_count": 61,
   "outputs": [
    {
     "data": {
      "text/plain": "<Figure size 432x288 with 1 Axes>",
      "image/png": "[encoded data removed]"
     },
     "metadata": {
      "needs_background": "light"
     },
     "output_type": "display_data"
    }
   ],
   "source": [
    "plt.scatter(pca_1[y_kmeans==0, 0], pca_1[y_kmeans==0, 1], s=200, c='red', label='Crop1')\n",
    "plt.scatter(pca_1[y_kmeans==1, 0], pca_1[y_kmeans==1, 1], s=200, c='blue', label='Crop2')\n",
    "plt.scatter(pca_1[y_kmeans==2, 0], pca_1[y_kmeans==2, 1], s=200, c='green', label='Crop3')\n",
    "plt.scatter(pca_1[y_kmeans==3, 0], pca_1[y_kmeans==3, 1], s=200, c='black', label='Crop4')\n",
    "plt.scatter(kmeans.cluster_centers_[:, 0], kmeans.cluster_centers_[:, 1], s=300, c='yellow', label='Centroid')\n",
    "plt.title('Clustering of Crops')\n",
    "plt.xlabel('Feature1')\n",
    "plt.ylabel('Feature2')\n",
    "plt.legend()\n",
    "plt.show()"
   ],
   "metadata": {
    "collapsed": false,
    "pycharm": {
     "name": "#%%\n",
     "is_executing": false
    }
   }
  },
  {
   "cell_type": "code",
   "execution_count": 12,
   "outputs": [],
   "source": [
    "frame = [df1,df3]\n",
    "\n",
    "df_final = pd.concat(frame)\n",
    "\n"
   ],
   "metadata": {
    "collapsed": false,
    "pycharm": {
     "name": "#%%\n",
     "is_executing": false
    }
   }
  },
  {
   "cell_type": "code",
   "execution_count": 9,
   "outputs": [
    {
     "name": "stdout",
     "text": [
      "<class 'pandas.core.frame.DataFrame'>\nInt64Index: 15149 entries, 0 to 6899\nData columns (total 13 columns):\npH            15149 non-null float64\nEC            15149 non-null float64\nOC            15149 non-null float64\nN             15149 non-null float64\nP             15149 non-null float64\nK             15149 non-null float64\nS             15149 non-null float64\nZn            15149 non-null float64\nFe            15149 non-null float64\nCu            15149 non-null float64\nMn            15149 non-null float64\nTarget        15149 non-null int64\nSub_Target    15149 non-null int64\ndtypes: float64(11), int64(2)\nmemory usage: 1.6 MB\n"
     ],
     "output_type": "stream"
    }
   ],
   "source": [
    "df_final.info()"
   ],
   "metadata": {
    "collapsed": false,
    "pycharm": {
     "name": "#%%\n",
     "is_executing": false
    }
   }
  },
  {
   "cell_type": "code",
   "execution_count": 13,
   "outputs": [],
   "source": [],
   "metadata": {
    "collapsed": false,
    "pycharm": {
     "name": "#%%\n",
     "is_executing": false
    }
   }
  },
  {
   "cell_type": "code",
   "execution_count": 6,
   "outputs": [],
   "source": [],
   "metadata": {
    "collapsed": false,
    "pycharm": {
     "name": "#%%\n",
     "is_executing": false
    }
   }
  },
  {
   "cell_type": "code",
   "execution_count": null,
   "outputs": [],
   "source": [
    "\n"
   ],
   "metadata": {
    "collapsed": false,
    "pycharm": {
     "name": "#%%\n"
    }
   }
  }
 ],
 "metadata": {
  "language_info": {
   "codemirror_mode": {
    "name": "ipython",
    "version": 2
   },
   "file_extension": ".py",
   "mimetype": "text/x-python",
   "name": "python",
   "nbconvert_exporter": "python",
   "pygments_lexer": "ipython2",
   "version": "2.7.6"
  },
  "kernelspec": {
   "name": "python3",
   "language": "python",
   "display_name": "Python 3"
  },
  "pycharm": {
   "stem_cell": {
    "cell_type": "raw",
    "source": [],
    "metadata": {
     "collapsed": false
    }
   }
  }
 },
 "nbformat": 4,
 "nbformat_minor": 0
}