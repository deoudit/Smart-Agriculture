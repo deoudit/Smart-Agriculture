{
 "cells": [
  {
   "cell_type": "code",
   "execution_count": 1,
   "metadata": {
    "collapsed": true,
    "pycharm": {
     "is_executing": false
    }
   },
   "outputs": [],
   "source": [
    "import pandas as pd\n",
    "import numpy as np"
   ]
  },
  {
   "cell_type": "code",
   "execution_count": 2,
   "outputs": [
    {
     "data": {
      "text/plain": "   Unnamed: 0   pH    EC    OC      N      P       K      S    Zn    Fe    Cu  \\\n0           0  7.9  0.13  0.54  375.3  19.52  267.31   9.65  0.68  7.18  0.28   \n1           1  7.6  0.13  0.48  333.6  24.77  297.26   7.00  0.66  8.22  0.36   \n2           2  7.5  0.14  0.40  278.0  24.02  276.30  10.25  0.64  8.24  0.34   \n3           3  7.3  0.15  0.50  347.5  17.26  223.60   6.75  0.66  7.36  0.26   \n4           4  6.9  0.15  0.44  305.8  16.51  269.10   8.23  0.68  7.28  0.30   \n\n     Mn  \n0  2.36  \n1  2.40  \n2  2.42  \n3  2.56  \n4  2.60  ",
      "text/html": "<div>\n<style scoped>\n    .dataframe tbody tr th:only-of-type {\n        vertical-align: middle;\n    }\n\n    .dataframe tbody tr th {\n        vertical-align: top;\n    }\n\n    .dataframe thead th {\n        text-align: right;\n    }\n</style>\n<table border=\"1\" class=\"dataframe\">\n  <thead>\n    <tr style=\"text-align: right;\">\n      <th></th>\n      <th>Unnamed: 0</th>\n      <th>pH</th>\n      <th>EC</th>\n      <th>OC</th>\n      <th>N</th>\n      <th>P</th>\n      <th>K</th>\n      <th>S</th>\n      <th>Zn</th>\n      <th>Fe</th>\n      <th>Cu</th>\n      <th>Mn</th>\n    </tr>\n  </thead>\n  <tbody>\n    <tr>\n      <th>0</th>\n      <td>0</td>\n      <td>7.9</td>\n      <td>0.13</td>\n      <td>0.54</td>\n      <td>375.3</td>\n      <td>19.52</td>\n      <td>267.31</td>\n      <td>9.65</td>\n      <td>0.68</td>\n      <td>7.18</td>\n      <td>0.28</td>\n      <td>2.36</td>\n    </tr>\n    <tr>\n      <th>1</th>\n      <td>1</td>\n      <td>7.6</td>\n      <td>0.13</td>\n      <td>0.48</td>\n      <td>333.6</td>\n      <td>24.77</td>\n      <td>297.26</td>\n      <td>7.00</td>\n      <td>0.66</td>\n      <td>8.22</td>\n      <td>0.36</td>\n      <td>2.40</td>\n    </tr>\n    <tr>\n      <th>2</th>\n      <td>2</td>\n      <td>7.5</td>\n      <td>0.14</td>\n      <td>0.40</td>\n      <td>278.0</td>\n      <td>24.02</td>\n      <td>276.30</td>\n      <td>10.25</td>\n      <td>0.64</td>\n      <td>8.24</td>\n      <td>0.34</td>\n      <td>2.42</td>\n    </tr>\n    <tr>\n      <th>3</th>\n      <td>3</td>\n      <td>7.3</td>\n      <td>0.15</td>\n      <td>0.50</td>\n      <td>347.5</td>\n      <td>17.26</td>\n      <td>223.60</td>\n      <td>6.75</td>\n      <td>0.66</td>\n      <td>7.36</td>\n      <td>0.26</td>\n      <td>2.56</td>\n    </tr>\n    <tr>\n      <th>4</th>\n      <td>4</td>\n      <td>6.9</td>\n      <td>0.15</td>\n      <td>0.44</td>\n      <td>305.8</td>\n      <td>16.51</td>\n      <td>269.10</td>\n      <td>8.23</td>\n      <td>0.68</td>\n      <td>7.28</td>\n      <td>0.30</td>\n      <td>2.60</td>\n    </tr>\n  </tbody>\n</table>\n</div>"
     },
     "metadata": {},
     "output_type": "execute_result",
     "execution_count": 2
    }
   ],
   "source": [
    "df = pd.read_csv('JK_F_Data.csv')\n",
    "df.head()"
   ],
   "metadata": {
    "collapsed": false,
    "pycharm": {
     "name": "#%%\n",
     "is_executing": false
    }
   }
  },
  {
   "cell_type": "code",
   "execution_count": 3,
   "outputs": [],
   "source": [
    "df.drop(['Unnamed: 0'], axis=1, inplace=True)"
   ],
   "metadata": {
    "collapsed": false,
    "pycharm": {
     "name": "#%%\n",
     "is_executing": false
    }
   }
  },
  {
   "cell_type": "code",
   "execution_count": 4,
   "outputs": [
    {
     "name": "stdout",
     "text": [
      "<class 'pandas.core.frame.DataFrame'>\nRangeIndex: 15150 entries, 0 to 15149\nData columns (total 11 columns):\npH    15150 non-null float64\nEC    15150 non-null float64\nOC    15150 non-null float64\nN     15150 non-null float64\nP     15150 non-null float64\nK     15150 non-null float64\nS     15150 non-null float64\nZn    15150 non-null float64\nFe    15150 non-null float64\nCu    15150 non-null float64\nMn    15150 non-null float64\ndtypes: float64(11)\nmemory usage: 1.3 MB\n"
     ],
     "output_type": "stream"
    }
   ],
   "source": [
    "df.info()"
   ],
   "metadata": {
    "collapsed": false,
    "pycharm": {
     "name": "#%%\n",
     "is_executing": false
    }
   }
  },
  {
   "cell_type": "code",
   "execution_count": 5,
   "outputs": [
    {
     "data": {
      "text/plain": "    pH    EC    OC      N      P       K      S    Zn    Fe    Cu    Mn\n0  7.9  0.13  0.54  375.3  19.52  267.31   9.65  0.68  7.18  0.28  2.36\n1  7.6  0.13  0.48  333.6  24.77  297.26   7.00  0.66  8.22  0.36  2.40\n2  7.5  0.14  0.40  278.0  24.02  276.30  10.25  0.64  8.24  0.34  2.42\n3  7.3  0.15  0.50  347.5  17.26  223.60   6.75  0.66  7.36  0.26  2.56\n4  6.9  0.15  0.44  305.8  16.51  269.10   8.23  0.68  7.28  0.30  2.60",
      "text/html": "<div>\n<style scoped>\n    .dataframe tbody tr th:only-of-type {\n        vertical-align: middle;\n    }\n\n    .dataframe tbody tr th {\n        vertical-align: top;\n    }\n\n    .dataframe thead th {\n        text-align: right;\n    }\n</style>\n<table border=\"1\" class=\"dataframe\">\n  <thead>\n    <tr style=\"text-align: right;\">\n      <th></th>\n      <th>pH</th>\n      <th>EC</th>\n      <th>OC</th>\n      <th>N</th>\n      <th>P</th>\n      <th>K</th>\n      <th>S</th>\n      <th>Zn</th>\n      <th>Fe</th>\n      <th>Cu</th>\n      <th>Mn</th>\n    </tr>\n  </thead>\n  <tbody>\n    <tr>\n      <th>0</th>\n      <td>7.9</td>\n      <td>0.13</td>\n      <td>0.54</td>\n      <td>375.3</td>\n      <td>19.52</td>\n      <td>267.31</td>\n      <td>9.65</td>\n      <td>0.68</td>\n      <td>7.18</td>\n      <td>0.28</td>\n      <td>2.36</td>\n    </tr>\n    <tr>\n      <th>1</th>\n      <td>7.6</td>\n      <td>0.13</td>\n      <td>0.48</td>\n      <td>333.6</td>\n      <td>24.77</td>\n      <td>297.26</td>\n      <td>7.00</td>\n      <td>0.66</td>\n      <td>8.22</td>\n      <td>0.36</td>\n      <td>2.40</td>\n    </tr>\n    <tr>\n      <th>2</th>\n      <td>7.5</td>\n      <td>0.14</td>\n      <td>0.40</td>\n      <td>278.0</td>\n      <td>24.02</td>\n      <td>276.30</td>\n      <td>10.25</td>\n      <td>0.64</td>\n      <td>8.24</td>\n      <td>0.34</td>\n      <td>2.42</td>\n    </tr>\n    <tr>\n      <th>3</th>\n      <td>7.3</td>\n      <td>0.15</td>\n      <td>0.50</td>\n      <td>347.5</td>\n      <td>17.26</td>\n      <td>223.60</td>\n      <td>6.75</td>\n      <td>0.66</td>\n      <td>7.36</td>\n      <td>0.26</td>\n      <td>2.56</td>\n    </tr>\n    <tr>\n      <th>4</th>\n      <td>6.9</td>\n      <td>0.15</td>\n      <td>0.44</td>\n      <td>305.8</td>\n      <td>16.51</td>\n      <td>269.10</td>\n      <td>8.23</td>\n      <td>0.68</td>\n      <td>7.28</td>\n      <td>0.30</td>\n      <td>2.60</td>\n    </tr>\n  </tbody>\n</table>\n</div>"
     },
     "metadata": {},
     "output_type": "execute_result",
     "execution_count": 5
    }
   ],
   "source": [
    "df.head()"
   ],
   "metadata": {
    "collapsed": false,
    "pycharm": {
     "name": "#%%\n",
     "is_executing": false
    }
   }
  },
  {
   "cell_type": "code",
   "execution_count": 7,
   "outputs": [],
   "source": [
    "X = df.iloc[:,[0,1,2,3,4,5,6,7,8,9,10]].values\n"
   ],
   "metadata": {
    "collapsed": false,
    "pycharm": {
     "name": "#%%\n",
     "is_executing": false
    }
   }
  },
  {
   "cell_type": "code",
   "execution_count": 21,
   "outputs": [],
   "source": [
    "from sklearn.cluster import KMeans\n",
    "wcss = []\n",
    "for i in range(1,11):\n",
    "    kmeans = KMeans(n_clusters=i, init='k-means++', max_iter=300, n_init=10, random_state=0)\n",
    "    kmeans.fit(X)\n",
    "    wcss.append(kmeans.inertia_)\n"
   ],
   "metadata": {
    "collapsed": false,
    "pycharm": {
     "name": "#%%\n",
     "is_executing": false
    }
   }
  },
  {
   "cell_type": "code",
   "execution_count": 22,
   "outputs": [
    {
     "data": {
      "text/plain": "<Figure size 432x288 with 1 Axes>",
      "image/png": "[encoded data removed]"
     },
     "metadata": {
      "needs_background": "light"
     },
     "output_type": "display_data"
    }
   ],
   "source": [
    "import matplotlib.pyplot as plt\n",
    "plt.plot(range(1, 11), wcss)\n",
    "plt.title('The Elbow Method')\n",
    "plt.xlabel('Number of clusters')\n",
    "plt.ylabel('WCSS')\n",
    "plt.show()"
   ],
   "metadata": {
    "collapsed": false,
    "pycharm": {
     "name": "#%%\n",
     "is_executing": false
    }
   }
  },
  {
   "cell_type": "code",
   "execution_count": 23,
   "outputs": [],
   "source": [
    "kmeans = KMeans(n_clusters=3, init='k-means++', max_iter=300, n_init=10, random_state=0)\n",
    "y_kmeans = kmeans.fit_predict(X)"
   ],
   "metadata": {
    "collapsed": false,
    "pycharm": {
     "name": "#%%\n",
     "is_executing": false
    }
   }
  },
  {
   "cell_type": "code",
   "execution_count": 24,
   "outputs": [],
   "source": [
    "df['Target'] = pd.DataFrame(y_kmeans)\n",
    "\n"
   ],
   "metadata": {
    "collapsed": false,
    "pycharm": {
     "name": "#%%\n",
     "is_executing": false
    }
   }
  },
  {
   "cell_type": "code",
   "execution_count": 25,
   "outputs": [
    {
     "data": {
      "text/plain": "    pH    EC    OC      N      P       K      S    Zn    Fe    Cu    Mn  \\\n0  7.9  0.13  0.54  375.3  19.52  267.31   9.65  0.68  7.18  0.28  2.36   \n1  7.6  0.13  0.48  333.6  24.77  297.26   7.00  0.66  8.22  0.36  2.40   \n2  7.5  0.14  0.40  278.0  24.02  276.30  10.25  0.64  8.24  0.34  2.42   \n3  7.3  0.15  0.50  347.5  17.26  223.60   6.75  0.66  7.36  0.26  2.56   \n4  6.9  0.15  0.44  305.8  16.51  269.10   8.23  0.68  7.28  0.30  2.60   \n\n   Target  \n0       0  \n1       2  \n2       2  \n3       0  \n4       2  ",
      "text/html": "<div>\n<style scoped>\n    .dataframe tbody tr th:only-of-type {\n        vertical-align: middle;\n    }\n\n    .dataframe tbody tr th {\n        vertical-align: top;\n    }\n\n    .dataframe thead th {\n        text-align: right;\n    }\n</style>\n<table border=\"1\" class=\"dataframe\">\n  <thead>\n    <tr style=\"text-align: right;\">\n      <th></th>\n      <th>pH</th>\n      <th>EC</th>\n      <th>OC</th>\n      <th>N</th>\n      <th>P</th>\n      <th>K</th>\n      <th>S</th>\n      <th>Zn</th>\n      <th>Fe</th>\n      <th>Cu</th>\n      <th>Mn</th>\n      <th>Target</th>\n    </tr>\n  </thead>\n  <tbody>\n    <tr>\n      <th>0</th>\n      <td>7.9</td>\n      <td>0.13</td>\n      <td>0.54</td>\n      <td>375.3</td>\n      <td>19.52</td>\n      <td>267.31</td>\n      <td>9.65</td>\n      <td>0.68</td>\n      <td>7.18</td>\n      <td>0.28</td>\n      <td>2.36</td>\n      <td>0</td>\n    </tr>\n    <tr>\n      <th>1</th>\n      <td>7.6</td>\n      <td>0.13</td>\n      <td>0.48</td>\n      <td>333.6</td>\n      <td>24.77</td>\n      <td>297.26</td>\n      <td>7.00</td>\n      <td>0.66</td>\n      <td>8.22</td>\n      <td>0.36</td>\n      <td>2.40</td>\n      <td>2</td>\n    </tr>\n    <tr>\n      <th>2</th>\n      <td>7.5</td>\n      <td>0.14</td>\n      <td>0.40</td>\n      <td>278.0</td>\n      <td>24.02</td>\n      <td>276.30</td>\n      <td>10.25</td>\n      <td>0.64</td>\n      <td>8.24</td>\n      <td>0.34</td>\n      <td>2.42</td>\n      <td>2</td>\n    </tr>\n    <tr>\n      <th>3</th>\n      <td>7.3</td>\n      <td>0.15</td>\n      <td>0.50</td>\n      <td>347.5</td>\n      <td>17.26</td>\n      <td>223.60</td>\n      <td>6.75</td>\n      <td>0.66</td>\n      <td>7.36</td>\n      <td>0.26</td>\n      <td>2.56</td>\n      <td>0</td>\n    </tr>\n    <tr>\n      <th>4</th>\n      <td>6.9</td>\n      <td>0.15</td>\n      <td>0.44</td>\n      <td>305.8</td>\n      <td>16.51</td>\n      <td>269.10</td>\n      <td>8.23</td>\n      <td>0.68</td>\n      <td>7.28</td>\n      <td>0.30</td>\n      <td>2.60</td>\n      <td>2</td>\n    </tr>\n  </tbody>\n</table>\n</div>"
     },
     "metadata": {},
     "output_type": "execute_result",
     "execution_count": 25
    }
   ],
   "source": [
    "df.head()"
   ],
   "metadata": {
    "collapsed": false,
    "pycharm": {
     "name": "#%%\n",
     "is_executing": false
    }
   }
  },
  {
   "cell_type": "code",
   "execution_count": 26,
   "outputs": [],
   "source": [],
   "metadata": {
    "collapsed": false,
    "pycharm": {
     "name": "#%%\n",
     "is_executing": false
    }
   }
  },
  {
   "cell_type": "code",
   "execution_count": null,
   "outputs": [],
   "source": [
    "\n"
   ],
   "metadata": {
    "collapsed": false,
    "pycharm": {
     "name": "#%%\n"
    }
   }
  }
 ],
 "metadata": {
  "language_info": {
   "codemirror_mode": {
    "name": "ipython",
    "version": 2
   },
   "file_extension": ".py",
   "mimetype": "text/x-python",
   "name": "python",
   "nbconvert_exporter": "python",
   "pygments_lexer": "ipython2",
   "version": "2.7.6"
  },
  "kernelspec": {
   "name": "python3",
   "language": "python",
   "display_name": "Python 3"
  },
  "pycharm": {
   "stem_cell": {
    "cell_type": "raw",
    "source": [],
    "metadata": {
     "collapsed": false
    }
   }
  }
 },
 "nbformat": 4,
 "nbformat_minor": 0
}