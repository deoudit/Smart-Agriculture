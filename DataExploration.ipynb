{
 "cells": [
  {
   "cell_type": "code",
   "execution_count": 1,
   "metadata": {
    "collapsed": true,
    "pycharm": {
     "is_executing": false
    }
   },
   "outputs": [],
   "source": [
    "import numpy as np\n",
    "import pandas as pd\n"
   ]
  },
  {
   "cell_type": "code",
   "execution_count": 3,
   "outputs": [
    {
     "data": {
      "text/plain": "   Sr.No.  Unnamed: 1               Sample No.         pH         EC       OC  \\\n0       1         NaN  JK5431/2017-18/77512786  7.90 MAl   0.13 N     0.54 M    \n1       2         NaN  JK5431/2017-18/77518496  7.60 MAl   0.13 N     0.48 L    \n2       3         NaN  JK5431/2017-18/77529989  7.50 MAl   0.14 N     0.40 L    \n3       4         NaN  JK5431/2017-18/77531772  7.30 MAl   0.15 N     0.50 L    \n4       5         NaN  JK5431/2017-18/77536345  6.90 SlAc  0.15 N     0.44 L    \n\n           N         P          K        S      Zn      Fe      Cu      Mn  \\\n0  375.30 M   19.52 L   267.31 M    9.65 D  0.68 S  7.18 S  0.28 S  2.36 S   \n1  333.60 M   24.77 M   297.26 M    7.00 D  0.66 S  8.22 S  0.36 S  2.40 S   \n2  278.00 L   24.02 M   276.30 M   10.25 S  0.64 S  8.24 S  0.34 S  2.42 S   \n3  347.50 M   17.26 L   223.60 M    6.75 D  0.66 S  7.36 S  0.26 S  2.56 S   \n4  305.80 M   16.51 L   269.10 M    8.23 D  0.68 S  7.28 S  0.30 S  2.60 S   \n\n     B  \n0  NaN  \n1  NaN  \n2  NaN  \n3  NaN  \n4  NaN  ",
      "text/html": "<div>\n<style scoped>\n    .dataframe tbody tr th:only-of-type {\n        vertical-align: middle;\n    }\n\n    .dataframe tbody tr th {\n        vertical-align: top;\n    }\n\n    .dataframe thead th {\n        text-align: right;\n    }\n</style>\n<table border=\"1\" class=\"dataframe\">\n  <thead>\n    <tr style=\"text-align: right;\">\n      <th></th>\n      <th>Sr.No.</th>\n      <th>Unnamed: 1</th>\n      <th>Sample No.</th>\n      <th>pH</th>\n      <th>EC</th>\n      <th>OC</th>\n      <th>N</th>\n      <th>P</th>\n      <th>K</th>\n      <th>S</th>\n      <th>Zn</th>\n      <th>Fe</th>\n      <th>Cu</th>\n      <th>Mn</th>\n      <th>B</th>\n    </tr>\n  </thead>\n  <tbody>\n    <tr>\n      <th>0</th>\n      <td>1</td>\n      <td>NaN</td>\n      <td>JK5431/2017-18/77512786</td>\n      <td>7.90 MAl</td>\n      <td>0.13 N</td>\n      <td>0.54 M</td>\n      <td>375.30 M</td>\n      <td>19.52 L</td>\n      <td>267.31 M</td>\n      <td>9.65 D</td>\n      <td>0.68 S</td>\n      <td>7.18 S</td>\n      <td>0.28 S</td>\n      <td>2.36 S</td>\n      <td>NaN</td>\n    </tr>\n    <tr>\n      <th>1</th>\n      <td>2</td>\n      <td>NaN</td>\n      <td>JK5431/2017-18/77518496</td>\n      <td>7.60 MAl</td>\n      <td>0.13 N</td>\n      <td>0.48 L</td>\n      <td>333.60 M</td>\n      <td>24.77 M</td>\n      <td>297.26 M</td>\n      <td>7.00 D</td>\n      <td>0.66 S</td>\n      <td>8.22 S</td>\n      <td>0.36 S</td>\n      <td>2.40 S</td>\n      <td>NaN</td>\n    </tr>\n    <tr>\n      <th>2</th>\n      <td>3</td>\n      <td>NaN</td>\n      <td>JK5431/2017-18/77529989</td>\n      <td>7.50 MAl</td>\n      <td>0.14 N</td>\n      <td>0.40 L</td>\n      <td>278.00 L</td>\n      <td>24.02 M</td>\n      <td>276.30 M</td>\n      <td>10.25 S</td>\n      <td>0.64 S</td>\n      <td>8.24 S</td>\n      <td>0.34 S</td>\n      <td>2.42 S</td>\n      <td>NaN</td>\n    </tr>\n    <tr>\n      <th>3</th>\n      <td>4</td>\n      <td>NaN</td>\n      <td>JK5431/2017-18/77531772</td>\n      <td>7.30 MAl</td>\n      <td>0.15 N</td>\n      <td>0.50 L</td>\n      <td>347.50 M</td>\n      <td>17.26 L</td>\n      <td>223.60 M</td>\n      <td>6.75 D</td>\n      <td>0.66 S</td>\n      <td>7.36 S</td>\n      <td>0.26 S</td>\n      <td>2.56 S</td>\n      <td>NaN</td>\n    </tr>\n    <tr>\n      <th>4</th>\n      <td>5</td>\n      <td>NaN</td>\n      <td>JK5431/2017-18/77536345</td>\n      <td>6.90 SlAc</td>\n      <td>0.15 N</td>\n      <td>0.44 L</td>\n      <td>305.80 M</td>\n      <td>16.51 L</td>\n      <td>269.10 M</td>\n      <td>8.23 D</td>\n      <td>0.68 S</td>\n      <td>7.28 S</td>\n      <td>0.30 S</td>\n      <td>2.60 S</td>\n      <td>NaN</td>\n    </tr>\n  </tbody>\n</table>\n</div>"
     },
     "metadata": {},
     "output_type": "execute_result",
     "execution_count": 3
    }
   ],
   "source": [
    "df = pd.read_csv(\"RefineJKDataset.csv\")\n",
    "df.head()"
   ],
   "metadata": {
    "collapsed": false,
    "pycharm": {
     "name": "#%%\n",
     "is_executing": false
    }
   }
  },
  {
   "cell_type": "code",
   "execution_count": 5,
   "outputs": [],
   "source": [
    "df.drop(['Sr.No.', 'Sample No.'], axis=1, inplace=True)\n"
   ],
   "metadata": {
    "collapsed": false,
    "pycharm": {
     "name": "#%%\n",
     "is_executing": false
    }
   }
  },
  {
   "cell_type": "code",
   "execution_count": 7,
   "outputs": [
    {
     "data": {
      "text/plain": "          pH         EC       OC          N         P          K        S  \\\n0  7.90 MAl   0.13 N     0.54 M   375.30 M   19.52 L   267.31 M    9.65 D   \n1  7.60 MAl   0.13 N     0.48 L   333.60 M   24.77 M   297.26 M    7.00 D   \n2  7.50 MAl   0.14 N     0.40 L   278.00 L   24.02 M   276.30 M   10.25 S   \n3  7.30 MAl   0.15 N     0.50 L   347.50 M   17.26 L   223.60 M    6.75 D   \n4  6.90 SlAc  0.15 N     0.44 L   305.80 M   16.51 L   269.10 M    8.23 D   \n\n       Zn      Fe      Cu      Mn    B  \n0  0.68 S  7.18 S  0.28 S  2.36 S  NaN  \n1  0.66 S  8.22 S  0.36 S  2.40 S  NaN  \n2  0.64 S  8.24 S  0.34 S  2.42 S  NaN  \n3  0.66 S  7.36 S  0.26 S  2.56 S  NaN  \n4  0.68 S  7.28 S  0.30 S  2.60 S  NaN  ",
      "text/html": "<div>\n<style scoped>\n    .dataframe tbody tr th:only-of-type {\n        vertical-align: middle;\n    }\n\n    .dataframe tbody tr th {\n        vertical-align: top;\n    }\n\n    .dataframe thead th {\n        text-align: right;\n    }\n</style>\n<table border=\"1\" class=\"dataframe\">\n  <thead>\n    <tr style=\"text-align: right;\">\n      <th></th>\n      <th>pH</th>\n      <th>EC</th>\n      <th>OC</th>\n      <th>N</th>\n      <th>P</th>\n      <th>K</th>\n      <th>S</th>\n      <th>Zn</th>\n      <th>Fe</th>\n      <th>Cu</th>\n      <th>Mn</th>\n      <th>B</th>\n    </tr>\n  </thead>\n  <tbody>\n    <tr>\n      <th>0</th>\n      <td>7.90 MAl</td>\n      <td>0.13 N</td>\n      <td>0.54 M</td>\n      <td>375.30 M</td>\n      <td>19.52 L</td>\n      <td>267.31 M</td>\n      <td>9.65 D</td>\n      <td>0.68 S</td>\n      <td>7.18 S</td>\n      <td>0.28 S</td>\n      <td>2.36 S</td>\n      <td>NaN</td>\n    </tr>\n    <tr>\n      <th>1</th>\n      <td>7.60 MAl</td>\n      <td>0.13 N</td>\n      <td>0.48 L</td>\n      <td>333.60 M</td>\n      <td>24.77 M</td>\n      <td>297.26 M</td>\n      <td>7.00 D</td>\n      <td>0.66 S</td>\n      <td>8.22 S</td>\n      <td>0.36 S</td>\n      <td>2.40 S</td>\n      <td>NaN</td>\n    </tr>\n    <tr>\n      <th>2</th>\n      <td>7.50 MAl</td>\n      <td>0.14 N</td>\n      <td>0.40 L</td>\n      <td>278.00 L</td>\n      <td>24.02 M</td>\n      <td>276.30 M</td>\n      <td>10.25 S</td>\n      <td>0.64 S</td>\n      <td>8.24 S</td>\n      <td>0.34 S</td>\n      <td>2.42 S</td>\n      <td>NaN</td>\n    </tr>\n    <tr>\n      <th>3</th>\n      <td>7.30 MAl</td>\n      <td>0.15 N</td>\n      <td>0.50 L</td>\n      <td>347.50 M</td>\n      <td>17.26 L</td>\n      <td>223.60 M</td>\n      <td>6.75 D</td>\n      <td>0.66 S</td>\n      <td>7.36 S</td>\n      <td>0.26 S</td>\n      <td>2.56 S</td>\n      <td>NaN</td>\n    </tr>\n    <tr>\n      <th>4</th>\n      <td>6.90 SlAc</td>\n      <td>0.15 N</td>\n      <td>0.44 L</td>\n      <td>305.80 M</td>\n      <td>16.51 L</td>\n      <td>269.10 M</td>\n      <td>8.23 D</td>\n      <td>0.68 S</td>\n      <td>7.28 S</td>\n      <td>0.30 S</td>\n      <td>2.60 S</td>\n      <td>NaN</td>\n    </tr>\n  </tbody>\n</table>\n</div>"
     },
     "metadata": {},
     "output_type": "execute_result",
     "execution_count": 7
    }
   ],
   "source": [
    "df.drop(['Unnamed: 1'], axis=1, inplace=True)\n",
    "df.head()\n",
    "\n"
   ],
   "metadata": {
    "collapsed": false,
    "pycharm": {
     "name": "#%%\n",
     "is_executing": false
    }
   }
  },
  {
   "cell_type": "code",
   "execution_count": 8,
   "outputs": [
    {
     "name": "stdout",
     "text": [
      "<class 'pandas.core.frame.DataFrame'>\nRangeIndex: 15150 entries, 0 to 15149\nData columns (total 12 columns):\npH    15149 non-null object\nEC    15143 non-null object\nOC    15147 non-null object\nN     15143 non-null object\nP     15147 non-null object\nK     15147 non-null object\nS     15146 non-null object\nZn    15138 non-null object\nFe    15141 non-null object\nCu    15138 non-null object\nMn    15112 non-null object\nB     20 non-null object\ndtypes: object(12)\nmemory usage: 1.4+ MB\n"
     ],
     "output_type": "stream"
    }
   ],
   "source": [
    "df.info()"
   ],
   "metadata": {
    "collapsed": false,
    "pycharm": {
     "name": "#%%\n",
     "is_executing": false
    }
   }
  },
  {
   "cell_type": "code",
   "execution_count": 9,
   "outputs": [],
   "source": [
    "df.drop(['B'], axis=1, inplace=True)"
   ],
   "metadata": {
    "collapsed": false,
    "pycharm": {
     "name": "#%%\n",
     "is_executing": false
    }
   }
  },
  {
   "cell_type": "code",
   "execution_count": 10,
   "outputs": [
    {
     "name": "stdout",
     "text": [
      "<class 'pandas.core.frame.DataFrame'>\nRangeIndex: 15150 entries, 0 to 15149\nData columns (total 11 columns):\npH    15149 non-null object\nEC    15143 non-null object\nOC    15147 non-null object\nN     15143 non-null object\nP     15147 non-null object\nK     15147 non-null object\nS     15146 non-null object\nZn    15138 non-null object\nFe    15141 non-null object\nCu    15138 non-null object\nMn    15112 non-null object\ndtypes: object(11)\nmemory usage: 1.3+ MB\n"
     ],
     "output_type": "stream"
    }
   ],
   "source": [
    "df.info()"
   ],
   "metadata": {
    "collapsed": false,
    "pycharm": {
     "name": "#%%\n",
     "is_executing": false
    }
   }
  },
  {
   "cell_type": "code",
   "execution_count": 25,
   "outputs": [],
   "source": [
    "df1 = pd.read_csv('JK_Dataset.csv')\n"
   ],
   "metadata": {
    "collapsed": false,
    "pycharm": {
     "name": "#%%\n",
     "is_executing": false
    }
   }
  },
  {
   "cell_type": "code",
   "execution_count": 26,
   "outputs": [
    {
     "name": "stdout",
     "text": [
      "<class 'pandas.core.frame.DataFrame'>\nRangeIndex: 15150 entries, 0 to 15149\nData columns (total 12 columns):\nUnnamed: 0    15150 non-null int64\npH            15149 non-null float64\nEC            15143 non-null float64\nOC            15147 non-null float64\nN             15143 non-null float64\nP             15147 non-null float64\nK             15147 non-null float64\nS             15146 non-null float64\nZn            15138 non-null float64\nFe            15141 non-null float64\nCu            15138 non-null float64\nMn            15112 non-null float64\ndtypes: float64(11), int64(1)\nmemory usage: 1.4 MB\n"
     ],
     "output_type": "stream"
    }
   ],
   "source": [
    "df1.info()"
   ],
   "metadata": {
    "collapsed": false,
    "pycharm": {
     "name": "#%%\n",
     "is_executing": false
    }
   }
  },
  {
   "cell_type": "code",
   "execution_count": 27,
   "outputs": [
    {
     "data": {
      "text/plain": "    pH    EC    OC      N      P       K      S    Zn    Fe    Cu    Mn\n0  7.9  0.13  0.54  375.3  19.52  267.31   9.65  0.68  7.18  0.28  2.36\n1  7.6  0.13  0.48  333.6  24.77  297.26   7.00  0.66  8.22  0.36  2.40\n2  7.5  0.14  0.40  278.0  24.02  276.30  10.25  0.64  8.24  0.34  2.42\n3  7.3  0.15  0.50  347.5  17.26  223.60   6.75  0.66  7.36  0.26  2.56\n4  6.9  0.15  0.44  305.8  16.51  269.10   8.23  0.68  7.28  0.30  2.60",
      "text/html": "<div>\n<style scoped>\n    .dataframe tbody tr th:only-of-type {\n        vertical-align: middle;\n    }\n\n    .dataframe tbody tr th {\n        vertical-align: top;\n    }\n\n    .dataframe thead th {\n        text-align: right;\n    }\n</style>\n<table border=\"1\" class=\"dataframe\">\n  <thead>\n    <tr style=\"text-align: right;\">\n      <th></th>\n      <th>pH</th>\n      <th>EC</th>\n      <th>OC</th>\n      <th>N</th>\n      <th>P</th>\n      <th>K</th>\n      <th>S</th>\n      <th>Zn</th>\n      <th>Fe</th>\n      <th>Cu</th>\n      <th>Mn</th>\n    </tr>\n  </thead>\n  <tbody>\n    <tr>\n      <th>0</th>\n      <td>7.9</td>\n      <td>0.13</td>\n      <td>0.54</td>\n      <td>375.3</td>\n      <td>19.52</td>\n      <td>267.31</td>\n      <td>9.65</td>\n      <td>0.68</td>\n      <td>7.18</td>\n      <td>0.28</td>\n      <td>2.36</td>\n    </tr>\n    <tr>\n      <th>1</th>\n      <td>7.6</td>\n      <td>0.13</td>\n      <td>0.48</td>\n      <td>333.6</td>\n      <td>24.77</td>\n      <td>297.26</td>\n      <td>7.00</td>\n      <td>0.66</td>\n      <td>8.22</td>\n      <td>0.36</td>\n      <td>2.40</td>\n    </tr>\n    <tr>\n      <th>2</th>\n      <td>7.5</td>\n      <td>0.14</td>\n      <td>0.40</td>\n      <td>278.0</td>\n      <td>24.02</td>\n      <td>276.30</td>\n      <td>10.25</td>\n      <td>0.64</td>\n      <td>8.24</td>\n      <td>0.34</td>\n      <td>2.42</td>\n    </tr>\n    <tr>\n      <th>3</th>\n      <td>7.3</td>\n      <td>0.15</td>\n      <td>0.50</td>\n      <td>347.5</td>\n      <td>17.26</td>\n      <td>223.60</td>\n      <td>6.75</td>\n      <td>0.66</td>\n      <td>7.36</td>\n      <td>0.26</td>\n      <td>2.56</td>\n    </tr>\n    <tr>\n      <th>4</th>\n      <td>6.9</td>\n      <td>0.15</td>\n      <td>0.44</td>\n      <td>305.8</td>\n      <td>16.51</td>\n      <td>269.10</td>\n      <td>8.23</td>\n      <td>0.68</td>\n      <td>7.28</td>\n      <td>0.30</td>\n      <td>2.60</td>\n    </tr>\n  </tbody>\n</table>\n</div>"
     },
     "metadata": {},
     "output_type": "execute_result",
     "execution_count": 27
    }
   ],
   "source": [
    "df1.drop(['Unnamed: 0'], axis=1, inplace=True)\n",
    "df1.head()\n",
    "\n"
   ],
   "metadata": {
    "collapsed": false,
    "pycharm": {
     "name": "#%%\n",
     "is_executing": false
    }
   }
  },
  {
   "cell_type": "code",
   "execution_count": 28,
   "outputs": [
    {
     "name": "stdout",
     "text": [
      "<class 'pandas.core.frame.DataFrame'>\nRangeIndex: 15150 entries, 0 to 15149\nData columns (total 11 columns):\npH    15149 non-null float64\nEC    15143 non-null float64\nOC    15147 non-null float64\nN     15143 non-null float64\nP     15147 non-null float64\nK     15147 non-null float64\nS     15146 non-null float64\nZn    15138 non-null float64\nFe    15141 non-null float64\nCu    15138 non-null float64\nMn    15112 non-null float64\ndtypes: float64(11)\nmemory usage: 1.3 MB\n"
     ],
     "output_type": "stream"
    }
   ],
   "source": [
    "df1.info()"
   ],
   "metadata": {
    "collapsed": false,
    "pycharm": {
     "name": "#%%\n",
     "is_executing": false
    }
   }
  },
  {
   "cell_type": "code",
   "execution_count": 29,
   "outputs": [
    {
     "data": {
      "text/plain": "7.175457125882897"
     },
     "metadata": {},
     "output_type": "execute_result",
     "execution_count": 29
    }
   ],
   "source": [
    "df1['pH'].mean()"
   ],
   "metadata": {
    "collapsed": false,
    "pycharm": {
     "name": "#%%\n",
     "is_executing": false
    }
   }
  },
  {
   "cell_type": "code",
   "execution_count": 31,
   "outputs": [],
   "source": [
    "df1['pH'].fillna( '7.17', inplace = True) \n"
   ],
   "metadata": {
    "collapsed": false,
    "pycharm": {
     "name": "#%%\n",
     "is_executing": false
    }
   }
  },
  {
   "cell_type": "code",
   "execution_count": 32,
   "outputs": [
    {
     "data": {
      "text/plain": "0.3632866671069141"
     },
     "metadata": {},
     "output_type": "execute_result",
     "execution_count": 32
    }
   ],
   "source": [
    "df1['EC'].mean()"
   ],
   "metadata": {
    "collapsed": false,
    "pycharm": {
     "name": "#%%\n",
     "is_executing": false
    }
   }
  },
  {
   "cell_type": "code",
   "execution_count": 33,
   "outputs": [],
   "source": [
    "df1['EC'].fillna( '0.36', inplace = True) "
   ],
   "metadata": {
    "collapsed": false,
    "pycharm": {
     "name": "#%%\n",
     "is_executing": false
    }
   }
  },
  {
   "cell_type": "code",
   "execution_count": 34,
   "outputs": [
    {
     "name": "stdout",
     "text": [
      "<class 'pandas.core.frame.DataFrame'>\nRangeIndex: 15150 entries, 0 to 15149\nData columns (total 11 columns):\npH    15150 non-null object\nEC    15150 non-null object\nOC    15147 non-null float64\nN     15143 non-null float64\nP     15147 non-null float64\nK     15147 non-null float64\nS     15146 non-null float64\nZn    15138 non-null float64\nFe    15141 non-null float64\nCu    15138 non-null float64\nMn    15112 non-null float64\ndtypes: float64(9), object(2)\nmemory usage: 1.3+ MB\n"
     ],
     "output_type": "stream"
    }
   ],
   "source": [
    "df1.info()"
   ],
   "metadata": {
    "collapsed": false,
    "pycharm": {
     "name": "#%%\n",
     "is_executing": false
    }
   }
  },
  {
   "cell_type": "code",
   "execution_count": 35,
   "outputs": [
    {
     "data": {
      "text/plain": "0.5332039347725622"
     },
     "metadata": {},
     "output_type": "execute_result",
     "execution_count": 35
    }
   ],
   "source": [
    "df1['OC'].mean()"
   ],
   "metadata": {
    "collapsed": false,
    "pycharm": {
     "name": "#%%\n",
     "is_executing": false
    }
   }
  },
  {
   "cell_type": "code",
   "execution_count": 36,
   "outputs": [],
   "source": [
    "df1['OC'].fillna( '0.53', inplace = True)"
   ],
   "metadata": {
    "collapsed": false,
    "pycharm": {
     "name": "#%%\n",
     "is_executing": false
    }
   }
  },
  {
   "cell_type": "code",
   "execution_count": 37,
   "outputs": [
    {
     "data": {
      "text/plain": "359.0040500561316"
     },
     "metadata": {},
     "output_type": "execute_result",
     "execution_count": 37
    }
   ],
   "source": [
    "df1['N'].mean()"
   ],
   "metadata": {
    "collapsed": false,
    "pycharm": {
     "name": "#%%\n",
     "is_executing": false
    }
   }
  },
  {
   "cell_type": "code",
   "execution_count": 38,
   "outputs": [],
   "source": [
    "df1['N'].fillna( '359.0', inplace = True)\n",
    "\n"
   ],
   "metadata": {
    "collapsed": false,
    "pycharm": {
     "name": "#%%\n",
     "is_executing": false
    }
   }
  },
  {
   "cell_type": "code",
   "execution_count": 39,
   "outputs": [
    {
     "data": {
      "text/plain": "16.684280055456526"
     },
     "metadata": {},
     "output_type": "execute_result",
     "execution_count": 39
    }
   ],
   "source": [
    "df1['P'].mean()\n",
    "\n"
   ],
   "metadata": {
    "collapsed": false,
    "pycharm": {
     "name": "#%%\n",
     "is_executing": false
    }
   }
  },
  {
   "cell_type": "code",
   "execution_count": 40,
   "outputs": [],
   "source": [
    "df1['P'].fillna( '16.68', inplace = True)"
   ],
   "metadata": {
    "collapsed": false,
    "pycharm": {
     "name": "#%%\n",
     "is_executing": false
    }
   }
  },
  {
   "cell_type": "code",
   "execution_count": 41,
   "outputs": [
    {
     "data": {
      "text/plain": "205.2341843269294"
     },
     "metadata": {},
     "output_type": "execute_result",
     "execution_count": 41
    }
   ],
   "source": [
    "df1['K'].mean()"
   ],
   "metadata": {
    "collapsed": false,
    "pycharm": {
     "name": "#%%\n",
     "is_executing": false
    }
   }
  },
  {
   "cell_type": "code",
   "execution_count": 42,
   "outputs": [],
   "source": [
    "df1['K'].fillna( '205.234', inplace = True)\n",
    "\n"
   ],
   "metadata": {
    "collapsed": false,
    "pycharm": {
     "name": "#%%\n",
     "is_executing": false
    }
   }
  },
  {
   "cell_type": "code",
   "execution_count": 43,
   "outputs": [
    {
     "name": "stdout",
     "text": [
      "<class 'pandas.core.frame.DataFrame'>\nRangeIndex: 15150 entries, 0 to 15149\nData columns (total 11 columns):\npH    15150 non-null object\nEC    15150 non-null object\nOC    15150 non-null object\nN     15150 non-null object\nP     15150 non-null object\nK     15150 non-null object\nS     15146 non-null float64\nZn    15138 non-null float64\nFe    15141 non-null float64\nCu    15138 non-null float64\nMn    15112 non-null float64\ndtypes: float64(5), object(6)\nmemory usage: 1.3+ MB\n"
     ],
     "output_type": "stream"
    }
   ],
   "source": [
    "df1.info()"
   ],
   "metadata": {
    "collapsed": false,
    "pycharm": {
     "name": "#%%\n",
     "is_executing": false
    }
   }
  },
  {
   "cell_type": "code",
   "execution_count": 44,
   "outputs": [
    {
     "data": {
      "text/plain": "15.442628416743695"
     },
     "metadata": {},
     "output_type": "execute_result",
     "execution_count": 44
    }
   ],
   "source": [
    "df1['S'].mean()\n",
    "\n"
   ],
   "metadata": {
    "collapsed": false,
    "pycharm": {
     "name": "#%%\n",
     "is_executing": false
    }
   }
  },
  {
   "cell_type": "code",
   "execution_count": 45,
   "outputs": [],
   "source": [
    "df1['S'].fillna( '15.44', inplace = True)"
   ],
   "metadata": {
    "collapsed": false,
    "pycharm": {
     "name": "#%%\n",
     "is_executing": false
    }
   }
  },
  {
   "cell_type": "code",
   "execution_count": 46,
   "outputs": [
    {
     "data": {
      "text/plain": "0.8234502576298057"
     },
     "metadata": {},
     "output_type": "execute_result",
     "execution_count": 46
    }
   ],
   "source": [
    "df1['Zn'].mean()\n",
    "\n",
    "\n"
   ],
   "metadata": {
    "collapsed": false,
    "pycharm": {
     "name": "#%%\n",
     "is_executing": false
    }
   }
  },
  {
   "cell_type": "code",
   "execution_count": 47,
   "outputs": [],
   "source": [
    "df1['Zn'].fillna( '0.823', inplace = True)\n"
   ],
   "metadata": {
    "collapsed": false,
    "pycharm": {
     "name": "#%%\n",
     "is_executing": false
    }
   }
  },
  {
   "cell_type": "code",
   "execution_count": 48,
   "outputs": [
    {
     "name": "stdout",
     "text": [
      "<class 'pandas.core.frame.DataFrame'>\nRangeIndex: 15150 entries, 0 to 15149\nData columns (total 11 columns):\npH    15150 non-null object\nEC    15150 non-null object\nOC    15150 non-null object\nN     15150 non-null object\nP     15150 non-null object\nK     15150 non-null object\nS     15150 non-null object\nZn    15150 non-null object\nFe    15141 non-null float64\nCu    15138 non-null float64\nMn    15112 non-null float64\ndtypes: float64(3), object(8)\nmemory usage: 1.3+ MB\n"
     ],
     "output_type": "stream"
    }
   ],
   "source": [
    "df1.info()"
   ],
   "metadata": {
    "collapsed": false,
    "pycharm": {
     "name": "#%%\n",
     "is_executing": false
    }
   }
  },
  {
   "cell_type": "code",
   "execution_count": 49,
   "outputs": [
    {
     "data": {
      "text/plain": "7.275557757083416"
     },
     "metadata": {},
     "output_type": "execute_result",
     "execution_count": 49
    }
   ],
   "source": [
    "df1['Fe'].mean()\n"
   ],
   "metadata": {
    "collapsed": false,
    "pycharm": {
     "name": "#%%\n",
     "is_executing": false
    }
   }
  },
  {
   "cell_type": "code",
   "execution_count": 50,
   "outputs": [],
   "source": [
    "df1['Fe'].fillna( '7.275', inplace = True)"
   ],
   "metadata": {
    "collapsed": false,
    "pycharm": {
     "name": "#%%\n",
     "is_executing": false
    }
   }
  },
  {
   "cell_type": "code",
   "execution_count": 51,
   "outputs": [
    {
     "data": {
      "text/plain": "0.41004756242568374"
     },
     "metadata": {},
     "output_type": "execute_result",
     "execution_count": 51
    }
   ],
   "source": [
    "df1['Cu'].mean()"
   ],
   "metadata": {
    "collapsed": false,
    "pycharm": {
     "name": "#%%\n",
     "is_executing": false
    }
   }
  },
  {
   "cell_type": "code",
   "execution_count": 52,
   "outputs": [],
   "source": [
    "df1['Cu'].fillna( '4.10', inplace = True)"
   ],
   "metadata": {
    "collapsed": false,
    "pycharm": {
     "name": "#%%\n",
     "is_executing": false
    }
   }
  },
  {
   "cell_type": "code",
   "execution_count": 53,
   "outputs": [
    {
     "data": {
      "text/plain": "2.2479466649020647"
     },
     "metadata": {},
     "output_type": "execute_result",
     "execution_count": 53
    }
   ],
   "source": [
    "df1['Mn'].mean()"
   ],
   "metadata": {
    "collapsed": false,
    "pycharm": {
     "name": "#%%\n",
     "is_executing": false
    }
   }
  },
  {
   "cell_type": "code",
   "execution_count": 54,
   "outputs": [],
   "source": [
    "df1['Mn'].fillna( '2.248', inplace = True)"
   ],
   "metadata": {
    "collapsed": false,
    "pycharm": {
     "name": "#%%\n",
     "is_executing": false
    }
   }
  },
  {
   "cell_type": "code",
   "execution_count": 55,
   "outputs": [
    {
     "name": "stdout",
     "text": [
      "<class 'pandas.core.frame.DataFrame'>\nRangeIndex: 15150 entries, 0 to 15149\nData columns (total 11 columns):\npH    15150 non-null object\nEC    15150 non-null object\nOC    15150 non-null object\nN     15150 non-null object\nP     15150 non-null object\nK     15150 non-null object\nS     15150 non-null object\nZn    15150 non-null object\nFe    15150 non-null object\nCu    15150 non-null object\nMn    15150 non-null object\ndtypes: object(11)\nmemory usage: 1.3+ MB\n"
     ],
     "output_type": "stream"
    }
   ],
   "source": [
    "df1.info()"
   ],
   "metadata": {
    "collapsed": false,
    "pycharm": {
     "name": "#%%\n",
     "is_executing": false
    }
   }
  },
  {
   "cell_type": "code",
   "execution_count": 56,
   "outputs": [],
   "source": [
    "df1.to_csv('JK_F_Data.csv')"
   ],
   "metadata": {
    "collapsed": false,
    "pycharm": {
     "name": "#%%\n",
     "is_executing": false
    }
   }
  },
  {
   "cell_type": "code",
   "execution_count": null,
   "outputs": [],
   "source": [
    "\n"
   ],
   "metadata": {
    "collapsed": false,
    "pycharm": {
     "name": "#%%\n"
    }
   }
  }
 ],
 "metadata": {
  "language_info": {
   "codemirror_mode": {
    "name": "ipython",
    "version": 2
   },
   "file_extension": ".py",
   "mimetype": "text/x-python",
   "name": "python",
   "nbconvert_exporter": "python",
   "pygments_lexer": "ipython2",
   "version": "2.7.6"
  },
  "kernelspec": {
   "name": "python3",
   "language": "python",
   "display_name": "Python 3"
  },
  "pycharm": {
   "stem_cell": {
    "cell_type": "raw",
    "source": [],
    "metadata": {
     "collapsed": false
    }
   }
  }
 },
 "nbformat": 4,
 "nbformat_minor": 0
}